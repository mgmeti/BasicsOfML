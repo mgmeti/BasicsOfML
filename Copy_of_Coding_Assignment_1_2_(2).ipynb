{
  "cells": [
    {
      "cell_type": "markdown",
      "metadata": {
        "id": "view-in-github",
        "colab_type": "text"
      },
      "source": [
        "<a href=\"https://colab.research.google.com/github/mgmeti/BasicsOfML/blob/main/Copy_of_Coding_Assignment_1_2_(2).ipynb\" target=\"_parent\"><img src=\"https://colab.research.google.com/assets/colab-badge.svg\" alt=\"Open In Colab\"/></a>"
      ]
    },
    {
      "cell_type": "markdown",
      "id": "e301133a",
      "metadata": {
        "id": "e301133a"
      },
      "source": [
        "# Coding Assignment 1: Playing with Graphs\n",
        "\n",
        "### Purpose and Learning Outcomes\n",
        "\n",
        "The aim of this assignment is to deepen the students' understanding of graph representation and manipulation. The listed problems align with Objective 1 of this course: Create and traverse graphs using real and synthetic social network data.\n",
        "\n",
        "### Reading\n",
        "Please read Sections 2.1, 2.2, and 2.4 of the textbook to get the necessary background information.\n",
        "\n",
        "### Instructions\n",
        "Make sure you fill in any place that says `YOUR CODE HERE`, and run the test cases after each function to check that your solution is correct. The test cases will pass if the test cells do not produce any output. Otherwise, the test cell will raise an error (`AssertionError` or some other type of error). Solutions that do not pass their associated tests will not earn points.\n",
        "\n",
        "Before you turn this assignment in, make sure everything runs as expected. First, **restart the kernel** (in the menubar, select Kernel$\\rightarrow$Restart) and then **run all cells** (in the menubar, select Cell$\\rightarrow$Run All).\n",
        "\n",
        "Once completed, please upload your iPython notebook (.ipynb file) to Canvas.\n",
        "\n",
        "\n",
        "\n",
        "\n",
        "\n",
        "### Evaluation Criteria\n",
        "The test cells must pass the assertion checks to earn points points. If the test cells pass the assertion checks but the codes have issues (e.g., two wrongs making the result right), partial marks may be awarded.\n",
        "\n",
        "### Due Date\n"
      ]
    },
    {
      "cell_type": "markdown",
      "id": "b2911ff3",
      "metadata": {
        "id": "b2911ff3"
      },
      "source": [
        "<div class=\"alert alert-warning\">\n",
        "    This problem set is for both CAP 4773 and CAP 6317. However, some of the problems are marked optional for CAP 4773 and correctly answering those will lead to bonus marks for CAP 4773 students.\n",
        "</div>"
      ]
    },
    {
      "cell_type": "markdown",
      "id": "22e3b40c",
      "metadata": {
        "id": "22e3b40c"
      },
      "source": [
        "# 1. Graph Representation - Unlinking Nodes (Total 15 points)"
      ]
    },
    {
      "cell_type": "markdown",
      "id": "7fda5adf",
      "metadata": {
        "id": "7fda5adf"
      },
      "source": [
        "Consider the following undirected graph with 4 nodes and 4 edges:\n",
        "\n",
        "$$G = (V, E)$$\n",
        "\n",
        "$$V = \\left\\{a, b, c, d\\right\\}$$\n",
        "\n",
        "$$E = \\big\\{(a, b), (a, c), (a, d), (b, c)\\big\\}$$\n",
        "\n",
        "\n",
        "Which we can draw as:\n",
        "\n",
        "```\n",
        "(a)---(b)\n",
        " | \\   |\n",
        " |  \\  |\n",
        " |   \\ |\n",
        "(d)   (c)\n",
        "```\n",
        "\n",
        "To _unlink a node_ means that we remove all the edges that are incident (i.e., connected) to it. For example, unlinking node $c$ from the above graph means to remove both edge $(a, c)$ and edge $(b, c)$. The resulting graph looks like this:\n",
        "\n",
        "```\n",
        "(a)---(b)\n",
        " |      \n",
        " |     \n",
        " |     \n",
        "(d)   (c)\n",
        "```\n",
        "\n",
        "<div class=\"alert alert-info\">\n",
        "    Notice that even though we removed all its incident edges, the node $c$ is still there. Unlinking a node does not remove node from the graph, just the edges connected to it.\n",
        "</div>\n",
        "\n",
        "## Representing the Graph\n",
        "\n",
        "In this section we will implement node unlinking. To represent our graph, there are two methods used most often:\n",
        "\n",
        "1. Adjacency Matrix\n",
        "2. Adjacency List.\n",
        "\n",
        "For this problem set, we will use the _adjacency list_ method. In Python, you can represent the above graph $G$ with the following dictionary data structure:\n",
        "\n",
        "```\n",
        "G = {\n",
        "    'a': ['b','c','d'],\n",
        "    'b': ['a','c'],\n",
        "    'c': ['a','b'],\n",
        "    'd': ['a']\n",
        "}\n",
        "```\n",
        "Here, in each (key:value) entry of the dictionary, the key denotes a node, and the value holds the list of nodes that are connected to the respective node key.\n",
        "\n",
        "Now that we have defined our graph, let us implement a node unlinking function."
      ]
    },
    {
      "cell_type": "markdown",
      "id": "4a4455ce",
      "metadata": {
        "id": "4a4455ce"
      },
      "source": [
        "## 1.1 Implementing the `unlinknode` function\n",
        "Implement all the functions below and run the test cases after each function to check that your solution is correct. The test case will pass if it does not produce any output. Otherwise, it will raise an error (`AssertionError` or some other type of error). Solutions that do not pass their associated tests will not earn points."
      ]
    },
    {
      "cell_type": "code",
      "execution_count": 12,
      "id": "1d825c46",
      "metadata": {
        "id": "1d825c46"
      },
      "outputs": [],
      "source": [
        "def unlinknode(G, nodeToRemove):\n",
        "    \"\"\"\n",
        "    Remove all edges incident to nodeToRemove from the adjacency list G\n",
        "\n",
        "    Parameters\n",
        "    ----------\n",
        "    G : dict\n",
        "        The graph G with N nodes, where keys denote nodes and values\n",
        "        denote lists of nodes connected to the respective key nodes.\n",
        "\n",
        "    nodeToRemove : str or int\n",
        "        The name of the node to unlink\n",
        "\n",
        "    Returns\n",
        "    -------\n",
        "    newG : dict\n",
        "        The same graph but with all edges incident to nodeToRemove removed\n",
        "    \"\"\"\n",
        "\n",
        "    # Iterate through each node in the graph\n",
        "    for node, neighbors in G.items():\n",
        "        # Remove occurrences of nodeToRemove from the list of neighbors\n",
        "        G[node] = [neighbor for neighbor in neighbors if neighbor != nodeToRemove]\n",
        "\n",
        "    # Remove the nodeToRemove from the graph\n",
        "    G[nodeToRemove] = []\n",
        "\n",
        "    return G\n"
      ]
    },
    {
      "cell_type": "markdown",
      "id": "7335cdf2",
      "metadata": {
        "id": "7335cdf2"
      },
      "source": [
        "### Test 1.1.1: Checking the correctness of your code (5 points)"
      ]
    },
    {
      "cell_type": "code",
      "execution_count": 14,
      "id": "35c0b46d",
      "metadata": {
        "id": "35c0b46d"
      },
      "outputs": [],
      "source": [
        "G = {\n",
        "    'a': ['b','c','d'],\n",
        "    'b': ['a','c'],\n",
        "    'c': ['a','b'],\n",
        "    'd': ['a']\n",
        "}\n",
        "\n",
        "G_expected = {\n",
        "    'a': ['c','d'],\n",
        "    'b': [],\n",
        "    'c': ['a'],\n",
        "    'd': ['a']\n",
        "}\n",
        "assert unlinknode(G,'b') == G_expected, \"Student output != Expected\""
      ]
    },
    {
      "cell_type": "markdown",
      "id": "9df6b84f",
      "metadata": {
        "id": "9df6b84f"
      },
      "source": [
        "### Test 1.1.2: Unlink a node from a different graph (5 points)\n",
        "\n",
        "The following cell tests your function on a graph with more nodes, a star graph (also called a wheel). If we unlink the hub node, then the resulting graph should have no edges (but still contain all nodes). The same `unlinknode` function you implemented above should work correctly in this test."
      ]
    },
    {
      "cell_type": "code",
      "execution_count": 15,
      "id": "39b41732",
      "metadata": {
        "id": "39b41732"
      },
      "outputs": [],
      "source": [
        "L_star = {\n",
        "    1: [2, 3, 4, 5, 6],\n",
        "    2: [1],\n",
        "    3: [1],\n",
        "    4: [1],\n",
        "    5: [1],\n",
        "    6: [1]\n",
        "}\n",
        "\n",
        "L_star_expected = {\n",
        "    1: [],\n",
        "    2: [],\n",
        "    3: [],\n",
        "    4: [],\n",
        "    5: [],\n",
        "    6: []\n",
        "}\n",
        "\n",
        "assert unlinknode(L_star,1) == L_star_expected, \"Student output != Expected\""
      ]
    },
    {
      "cell_type": "markdown",
      "id": "895a02c5",
      "metadata": {
        "id": "895a02c5"
      },
      "source": [
        "## 1.2 Unlinking multiple nodes\n",
        "\n",
        "Now write a function called `unlinkmany` that takes in input a list of node names and unlinks each of them. You may choose to reuse the earlier `unlinknode` function in this problem if you like.\n",
        "\n",
        "Then, run the test case below to test whether your answer is correct."
      ]
    },
    {
      "cell_type": "code",
      "execution_count": 16,
      "id": "fa3008bf",
      "metadata": {
        "id": "fa3008bf"
      },
      "outputs": [],
      "source": [
        "def unlinkmany(G, nodesToRemove):\n",
        "    \"\"\"\n",
        "    Remove all edges incident to all nodes in the nodesToRemove list\n",
        "\n",
        "    Parameter\n",
        "    =========\n",
        "    G : dictionary\n",
        "        The graph G with N nodes, where keys denote nodes and values\n",
        "        denote lists of nodes connected to the respective key nodes.\n",
        "\n",
        "    nodesToRemove : list of strings/integers\n",
        "        A list of the names of the nodes to unlink\n",
        "\n",
        "    Returns\n",
        "    =======\n",
        "    G: dictionary\n",
        "        The same graph but with all edges incident to all nodes in\n",
        "        the nodesToRemove list removed\n",
        "    \"\"\"\n",
        "    ### BEGIN SOLUTION\n",
        "\n",
        "    #YOUR CODE HERE\n",
        "    for nodeToRemove in nodesToRemove:\n",
        "        G = unlinknode(G, nodeToRemove)\n",
        "\n",
        "    ### END SOLUTION\n",
        "\n",
        "    return G"
      ]
    },
    {
      "cell_type": "markdown",
      "id": "c1833d86",
      "metadata": {
        "id": "c1833d86"
      },
      "source": [
        "### Test 1.2.1: Checking the correctness of your code (5 points)"
      ]
    },
    {
      "cell_type": "code",
      "execution_count": 17,
      "id": "6c8bfcf6",
      "metadata": {
        "id": "6c8bfcf6"
      },
      "outputs": [],
      "source": [
        "G = {\n",
        "    'a': ['b','c','d'],\n",
        "    'b': ['a','c'],\n",
        "    'c': ['a','b'],\n",
        "    'd': ['a']\n",
        "}\n",
        "\n",
        "G_expected = {\n",
        "    'a': ['b'],\n",
        "    'b': ['a'],\n",
        "    'c': [],\n",
        "    'd': []\n",
        "}\n",
        "assert unlinkmany(G,['c','d']) == G_expected, \"Student output != Expected\""
      ]
    },
    {
      "cell_type": "markdown",
      "id": "318b9e0d",
      "metadata": {
        "id": "318b9e0d"
      },
      "source": [
        "# 2. Replicating _Why Your Friends Have More Friends than You Do_\n",
        "\n",
        "Total scores for this problem:\n",
        "\n",
        "\n",
        "\n",
        "The cell below shows the adjacency list for the friendship network of Fig. 1 from the paper,\n",
        "`Feld, Scott L. \"Why your friends have more friends than you do.\" American Journal of Sociology 96.6 (1991): 1464-1477` (uploaded on Assignments as an optional reading -- it is a fascinating paper!)\n",
        "\n",
        "The goal of this section is to replicate the same statistics in Table 1 of the paper.\n",
        "\n",
        "As before, implement all the functions below and run the test cases after each function to check that your solution is correct. The test case will pass if it does not produce any output. Otherwise, it will raise an error (`AssertionError` or some other type of error). Solutions that do not pass their associated tests will not earn points."
      ]
    },
    {
      "cell_type": "code",
      "execution_count": 18,
      "id": "97785ded",
      "metadata": {
        "id": "97785ded"
      },
      "outputs": [],
      "source": [
        "FriendsGraph = {\n",
        "    'Betty': ['Sue'],\n",
        "    'Sue': ['Betty', 'Alice', 'Pam' ,'Dale'],\n",
        "    'Alice': ['Sue', 'Jane', 'Pam', 'Dale'],\n",
        "    'Jane': ['Alice', 'Dale'],\n",
        "    'Pam': ['Sue', 'Carol', 'Alice'],\n",
        "    'Dale': ['Sue', 'Alice', 'Jane'],\n",
        "    'Carol': ['Pam', 'Tina'],\n",
        "    'Tina': ['Carol']\n",
        "}"
      ]
    },
    {
      "cell_type": "markdown",
      "id": "4c70bd6d",
      "metadata": {
        "id": "4c70bd6d"
      },
      "source": [
        "## 2.1 Compute the number of friends of each student\n",
        "Read the function definition for the correct form of the expected output.\n",
        "\n",
        "Hint: The Python function len() can be used to easily compute the length of a list."
      ]
    },
    {
      "cell_type": "code",
      "execution_count": 19,
      "id": "6aa3894a",
      "metadata": {
        "id": "6aa3894a"
      },
      "outputs": [],
      "source": [
        "def degreesOfNodes(G):\n",
        "    \"\"\"\n",
        "    Compute degree of each node.\n",
        "\n",
        "    Parameter\n",
        "    =========\n",
        "    G: dictionary\n",
        "        The graph represented as an adjacency list, just like the last problem\n",
        "        (a dictionary mapping names of girls to the list of their friends)\n",
        "\n",
        "    Returns\n",
        "    =======\n",
        "    degreesDict : dictionary\n",
        "        The keys are the node names. The values are integers holding\n",
        "        the respective node's degree centrality (i.e., number of friends).\n",
        "    \"\"\"\n",
        "    ### BEGIN SOLUTION\n",
        "\n",
        "    degreesDict = {}\n",
        "\n",
        "    for node, neighbors in G.items():\n",
        "        # Compute the degree centrality by finding the length of the list of friends\n",
        "        degree_centrality = len(neighbors)\n",
        "        degreesDict[node] = degree_centrality\n",
        "\n",
        "    ### END SOLUTION\n",
        "    return degreesDict\n"
      ]
    },
    {
      "cell_type": "markdown",
      "id": "5e2998a4",
      "metadata": {
        "id": "5e2998a4"
      },
      "source": [
        "### Test 2.1.1: Checking the correctness of your code (2.5+2.5 points for the following two cells)"
      ]
    },
    {
      "cell_type": "code",
      "execution_count": 20,
      "id": "0c3285e8",
      "metadata": {
        "id": "0c3285e8"
      },
      "outputs": [],
      "source": [
        "G = {\n",
        "    'a': ['b','c','d'],\n",
        "    'b': ['a','c'],\n",
        "    'c': ['a','b'],\n",
        "    'd': ['a']\n",
        "}\n",
        "\n",
        "degreesDict_expected = {\n",
        "    'a': 3, # a has 3 friends\n",
        "    'b': 2,\n",
        "    'c': 2,\n",
        "    'd': 1\n",
        "}\n",
        "\n",
        "assert degreesOfNodes(G) == degreesDict_expected, \"Student output != Expected\""
      ]
    },
    {
      "cell_type": "code",
      "execution_count": 21,
      "id": "b0ad5399",
      "metadata": {
        "id": "b0ad5399"
      },
      "outputs": [],
      "source": [
        "FriendsGraph_degreesDict_expected = {\n",
        "     'Betty': 1,\n",
        "     'Sue': 4,\n",
        "     'Alice': 4,\n",
        "     'Jane': 2,\n",
        "     'Pam': 3,\n",
        "     'Dale': 3,\n",
        "     'Carol': 2,\n",
        "     'Tina': 1\n",
        "}\n",
        "\n",
        "assert degreesOfNodes(FriendsGraph) == FriendsGraph_degreesDict_expected, \\\n",
        "\"Student output != Expected\""
      ]
    },
    {
      "cell_type": "markdown",
      "id": "2dad6218",
      "metadata": {
        "id": "2dad6218"
      },
      "source": [
        "## 2.2 Compute how popular the students are on average\n",
        "If you wish, you may recycle your `degreesOfNodes` function above."
      ]
    },
    {
      "cell_type": "code",
      "execution_count": 22,
      "id": "ba233ec5",
      "metadata": {
        "id": "ba233ec5"
      },
      "outputs": [],
      "source": [
        "def avgdegree(G):\n",
        "    \"\"\"\n",
        "    Return the average degree of the nodes in G\n",
        "\n",
        "    Parameters\n",
        "    ==========\n",
        "    G : dict\n",
        "        The graph represented as an adjacency list (a dictionary mapping\n",
        "        names of girls to the list of their friends)\n",
        "\n",
        "    Returns\n",
        "    =======\n",
        "    avgdeg : float\n",
        "        The average degree of the nodes in the graph\n",
        "    \"\"\"\n",
        "    ### BEGIN SOLUTION\n",
        "\n",
        "    # Calculate the degree of each node using the degreesOfNodes function\n",
        "    degrees = degreesOfNodes(G)\n",
        "\n",
        "    # Calculate the average degree\n",
        "    num_nodes = len(degrees)\n",
        "    total_degree = sum(degrees.values())\n",
        "    avgdeg = total_degree / num_nodes if num_nodes > 0 else 0\n",
        "\n",
        "    ### END SOLUTION\n",
        "\n",
        "    return avgdeg"
      ]
    },
    {
      "cell_type": "markdown",
      "id": "1c1450b2",
      "metadata": {
        "id": "1c1450b2"
      },
      "source": [
        "### Test 2.2.1: Checking the correctness of your code (2.5+2.5 points for the following two cells)"
      ]
    },
    {
      "cell_type": "code",
      "execution_count": 23,
      "id": "13c42df6",
      "metadata": {
        "id": "13c42df6"
      },
      "outputs": [],
      "source": [
        "G = {\n",
        "    'a': ['b','c','d'],\n",
        "    'b': ['a','c'],\n",
        "    'c': ['a','b'],\n",
        "    'd': ['a']\n",
        "}\n",
        "assert avgdegree(G) == 2, \"avgdegree(G) != 2\""
      ]
    },
    {
      "cell_type": "code",
      "execution_count": 24,
      "id": "aa0ebf14",
      "metadata": {
        "id": "aa0ebf14"
      },
      "outputs": [],
      "source": [
        "assert avgdegree(FriendsGraph) == 2.5, \"avgdegree(FriendsGraph) != 2.5\""
      ]
    },
    {
      "cell_type": "markdown",
      "id": "ff44a316",
      "metadata": {
        "id": "ff44a316"
      },
      "source": [
        "<div class=\"alert alert-warning\">\n",
        "    "
      ]
    },
    {
      "cell_type": "markdown",
      "id": "68c07182",
      "metadata": {
        "id": "68c07182"
      },
      "source": [
        "## 2.3 Compute the friends' numbers of friends for each node\n",
        "If you wish, you may recycle your `degreesOfNodes` function above.\n",
        "This question is optional for CAP 4773."
      ]
    },
    {
      "cell_type": "code",
      "execution_count": 25,
      "id": "6273484f",
      "metadata": {
        "id": "6273484f"
      },
      "outputs": [],
      "source": [
        "def degreesOfFriendsOfNodes(G):\n",
        "    \"\"\"\n",
        "    Return the degrees of the friends of each node in G\n",
        "\n",
        "    Parameters\n",
        "    ==========\n",
        "    G : dictionary\n",
        "        The graph represented as an adjacency list (a dictionary mapping\n",
        "        names of girls to the list of their friends)\n",
        "\n",
        "    Returns\n",
        "    =======\n",
        "    friendsDegreesDict : dictionary\n",
        "        The keys are the nodes, the values are lists which holds\n",
        "        the degrees of each friend of that node\n",
        "    \"\"\"\n",
        "    ### BEGIN SOLUTION\n",
        "\n",
        "      # Calculate the degree of each node using the degreesOfNodes function\n",
        "    degrees = degreesOfNodes(G)\n",
        "\n",
        "    # Initialize an empty dictionary to store friends' degrees for each node\n",
        "    friendsDegreesDict = {}\n",
        "\n",
        "    # Iterate through each node in the graph\n",
        "    for node, neighbors in G.items():\n",
        "        # Calculate the degree of each friend for the current node\n",
        "        friends_degrees = [degrees[friend] for friend in neighbors]\n",
        "\n",
        "        # Store the result in the dictionary\n",
        "        friendsDegreesDict[node] = friends_degrees\n",
        "\n",
        "    ### END SOLUTION\n",
        "    return friendsDegreesDict\n"
      ]
    },
    {
      "cell_type": "markdown",
      "id": "34a60bd9",
      "metadata": {
        "id": "34a60bd9"
      },
      "source": [
        "### Test 2.3.1: Checking the correctness of your code (2.5+2.5 points for the following two cells)"
      ]
    },
    {
      "cell_type": "code",
      "execution_count": 26,
      "id": "081931e8",
      "metadata": {
        "id": "081931e8"
      },
      "outputs": [],
      "source": [
        "G = {\n",
        "    'a': ['b','c','d'],\n",
        "    'b': ['a','c'],\n",
        "    'c': ['a','b'],\n",
        "    'd': ['a']\n",
        "}\n",
        "\n",
        "friendsDegreesDict_expected = {\n",
        "    'a': [2,2,1], # a's friends are b,c,d, who respectively have 2,2,1 friends\n",
        "    'b': [3,2],\n",
        "    'c': [3,2],\n",
        "    'd': [3]\n",
        "}\n",
        "\n",
        "assert degreesOfFriendsOfNodes(G) == friendsDegreesDict_expected, \"Student output != Expected\""
      ]
    },
    {
      "cell_type": "code",
      "execution_count": 27,
      "id": "c5e43a53",
      "metadata": {
        "id": "c5e43a53"
      },
      "outputs": [],
      "source": [
        "FriendsGraph_friendsDegreesDict_expected = {\n",
        "     'Betty': [4],\n",
        "     'Sue': [1, 4, 3, 3],\n",
        "     'Alice': [4, 2, 3, 3],\n",
        "     'Jane': [4, 3],\n",
        "     'Pam': [4, 2, 4],\n",
        "     'Dale': [4, 4, 2],\n",
        "     'Carol': [3, 1],\n",
        "     'Tina': [2]\n",
        "}\n",
        "\n",
        "assert degreesOfFriendsOfNodes(FriendsGraph) == FriendsGraph_friendsDegreesDict_expected, \\\n",
        "\"Student output != Expected\"\n"
      ]
    },
    {
      "cell_type": "markdown",
      "id": "38768742",
      "metadata": {
        "id": "38768742"
      },
      "source": [
        "## 2.4 Compute the average popularity of each students' friends\n",
        "If you wish, you may recycle your `degreesOfFriendsOfNodes` function above. This question is optional for CAP 4773.\n",
        "\n",
        "Hint: The function mean() found in the numpy library can easily compute the mean of any list of numbers."
      ]
    },
    {
      "cell_type": "code",
      "execution_count": 30,
      "id": "5213e276",
      "metadata": {
        "id": "5213e276"
      },
      "outputs": [],
      "source": [
        "import numpy as np\n",
        "\n",
        "def avgDegreesOfFriendsOfNodes(G):\n",
        "    \"\"\"\n",
        "    Return the average degree of the friends of each node in G\n",
        "\n",
        "    Parameters\n",
        "    ==========\n",
        "    D : dict\n",
        "        The graph represented as an adjacency list (a dictionary mapping\n",
        "        names of girls to the list of their friends)\n",
        "\n",
        "    Returns\n",
        "    =======\n",
        "    avgFriendsDegreesDict : dictionary\n",
        "        The keys are the node names. The values (float) are the\n",
        "        average degrees of the friends of that node\n",
        "    \"\"\"\n",
        "    ### BEGIN SOLUTION\n",
        "\n",
        "    # Calculate the degrees of friends for each node using the degreesOfFriendsOfNodes function\n",
        "    friends_degrees_dict = degreesOfFriendsOfNodes(G)\n",
        "\n",
        "    avgFriendsDegreesDict = {}\n",
        "\n",
        "    # Iterate through each node in the graph\n",
        "    for node, friends_degrees in friends_degrees_dict.items():\n",
        "        # Calculate the average degree of friends for the current node\n",
        "        avg_friends_degree = np.mean(friends_degrees)\n",
        "\n",
        "        # Store the result in the dictionary\n",
        "        avgFriendsDegreesDict[node] = avg_friends_degree\n",
        "\n",
        "    ### END SOLUTION\n",
        "    return avgFriendsDegreesDict\n"
      ]
    },
    {
      "cell_type": "markdown",
      "id": "d040b8b5",
      "metadata": {
        "id": "d040b8b5"
      },
      "source": [
        "### Test 2.4.1: Checking the correctness of your code (5 points)"
      ]
    },
    {
      "cell_type": "code",
      "execution_count": 31,
      "id": "e7118f8b",
      "metadata": {
        "id": "e7118f8b"
      },
      "outputs": [],
      "source": [
        "FriendsGraph_avgfriendsDegreesDict_expected = {\n",
        "     'Betty': 4.0,\n",
        "     'Sue': 2.75, # avg of [1,4,3,3]\n",
        "     'Alice': 3.0,\n",
        "     'Jane': 3.5,\n",
        "     'Pam': 3.3333333333333333,\n",
        "     'Dale': 3.3333333333333333,\n",
        "     'Carol': 2.0,\n",
        "     'Tina': 2.0\n",
        "}\n",
        "\n",
        "assert avgDegreesOfFriendsOfNodes(FriendsGraph) == FriendsGraph_avgfriendsDegreesDict_expected, \\\n",
        "\"Student output != Expected\"\n"
      ]
    },
    {
      "cell_type": "markdown",
      "id": "4ea60f47",
      "metadata": {
        "id": "4ea60f47"
      },
      "source": [
        "## 2.5 Compute how popular people's friends are on average\n",
        "If you wish, you may recycle your `avgDegreesOfFriendsOfNodes` function above. This question is optional for CAP 4773."
      ]
    },
    {
      "cell_type": "code",
      "execution_count": 32,
      "id": "fa2d4f84",
      "metadata": {
        "id": "fa2d4f84"
      },
      "outputs": [],
      "source": [
        "def avgfriendsdegree(G):\n",
        "    \"\"\"\n",
        "    Return the average friends' degree\n",
        "\n",
        "    Parameters\n",
        "    ==========\n",
        "    G : dict\n",
        "        The graph represented as an adjacency list (a dictionary mapping\n",
        "        names of girls to the list of their friends)\n",
        "\n",
        "    Returns\n",
        "    =======\n",
        "    avgfrideg : float\n",
        "        The average degree of friends in the graph\n",
        "    \"\"\"\n",
        "    ### BEGIN SOLUTION\n",
        "\n",
        "    # Calculate the average degree of friends for each node using the avgDegreesOfFriendsOfNodes function\n",
        "    avg_friends_degrees_dict = avgDegreesOfFriendsOfNodes(G)\n",
        "\n",
        "    # Calculate the overall average degree of friends\n",
        "    avgfrideg = np.mean(list(avg_friends_degrees_dict.values()))\n",
        "\n",
        "    ### END SOLUTION\n",
        "\n",
        "    return avgfrideg\n"
      ]
    },
    {
      "cell_type": "markdown",
      "id": "238118ae",
      "metadata": {
        "id": "238118ae"
      },
      "source": [
        "### Test 2.5.1: Checking the correctness of your code (5 points)"
      ]
    },
    {
      "cell_type": "code",
      "execution_count": 33,
      "id": "a4187ded",
      "metadata": {
        "id": "a4187ded"
      },
      "outputs": [],
      "source": [
        "import numpy as np\n",
        "assert np.allclose([avgfriendsdegree(FriendsGraph)], [2.9895833333333333], rtol=1e-2),\\\n",
        "\"averagefriendsdegree(FriendsGraph) != 2.99\""
      ]
    },
    {
      "cell_type": "markdown",
      "id": "f512c162",
      "metadata": {
        "id": "f512c162"
      },
      "source": [
        "## Q. Does the paper's claim hold? (unscored)\n"
      ]
    },
    {
      "cell_type": "markdown",
      "id": "f7ffbc6c",
      "metadata": {
        "id": "f7ffbc6c"
      },
      "source": [
        "Yes\n"
      ]
    }
  ],
  "metadata": {
    "kernelspec": {
      "display_name": "Python 3 (ipykernel)",
      "language": "python",
      "name": "python3"
    },
    "language_info": {
      "codemirror_mode": {
        "name": "ipython",
        "version": 3
      },
      "file_extension": ".py",
      "mimetype": "text/x-python",
      "name": "python",
      "nbconvert_exporter": "python",
      "pygments_lexer": "ipython3",
      "version": "3.9.7"
    },
    "colab": {
      "provenance": [],
      "collapsed_sections": [
        "22e3b40c",
        "4a4455ce",
        "7335cdf2",
        "9df6b84f",
        "895a02c5",
        "4c70bd6d",
        "5e2998a4",
        "2dad6218"
      ],
      "include_colab_link": true
    }
  },
  "nbformat": 4,
  "nbformat_minor": 5
}